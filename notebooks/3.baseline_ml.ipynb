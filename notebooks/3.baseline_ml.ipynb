{
 "cells": [
  {
   "cell_type": "code",
   "execution_count": 1,
   "id": "a38991d9",
   "metadata": {},
   "outputs": [],
   "source": [
    "#General Imports\n",
    "import os \n",
    "import sys\n",
    "from dotenv import load_dotenv #importing env file\n",
    "import pandas as pd\n",
    "import random\n",
    "import pickle\n",
    "\n"
   ]
  },
  {
   "cell_type": "code",
   "execution_count": 2,
   "id": "b2a5bd37",
   "metadata": {},
   "outputs": [],
   "source": [
    "#ML Imports\n",
    "import matplotlib.pyplot as plt\n",
    "import pandas as pd\n",
    "import numpy as np\n",
    "from sklearn.linear_model import LinearRegression\n",
    "from sklearn.metrics import mean_squared_error, r2_score\n",
    "from sklearn.preprocessing import StandardScaler"
   ]
  },
  {
   "cell_type": "code",
   "execution_count": 3,
   "id": "d8c4ebe5",
   "metadata": {},
   "outputs": [],
   "source": [
    "#NLP\n",
    "import gensim\n",
    "from sklearn.feature_extraction.text import CountVectorizer\n",
    "from gensim.models import Word2Vec\n",
    "from gensim.utils import simple_preprocess"
   ]
  },
  {
   "cell_type": "code",
   "execution_count": 4,
   "id": "dd43d9d8",
   "metadata": {},
   "outputs": [],
   "source": [
    "train_path = '/Users/vishesh/projects/Pricer/data/balanced/train.pkl'\n",
    "test_path = '/Users/vishesh/projects/Pricer/data/balanced/test.pkl'\n",
    "with open(train_path,'rb') as f:\n",
    "    train = pickle.load(f)\n",
    "with open(test_path,'rb') as f:\n",
    "    test = pickle.load(f)"
   ]
  },
  {
   "cell_type": "code",
   "execution_count": 5,
   "id": "b40eaabf",
   "metadata": {},
   "outputs": [
    {
     "name": "stdout",
     "output_type": "stream",
     "text": [
      "Starfilm Screen Protector For Thinkpad X1 Yoga Gen6/2021 Touch Screen Laptop 14Inch Draw&Write Like Paper Screen Protector (14inch 16:10 draw like paper)\n"
     ]
    }
   ],
   "source": [
    "print(train['title'].iloc[232344])"
   ]
  },
  {
   "cell_type": "code",
   "execution_count": 6,
   "id": "8da2442d",
   "metadata": {},
   "outputs": [
    {
     "name": "stdout",
     "output_type": "stream",
     "text": [
      "How much does this cost to the nearest dollar?\n",
      "\n",
      "Upgraded Charging Dock with LED Light for Oculus Quest Station with 2 Rechargeable Batteries for Meta Oculus Quest 2 Accessories,Headset Display Stand and Controller Mount,Magnetic Cable\n",
      "Magetic Charing Station for OCULUS QUEST 2 Charging Dock Built to charge the Oculus Quest 2, the Elite Strap, VR headset and two Touch Controllers simultaneously. Lightning Speed Charge Great for Elite Gamer This charger dock for valve index allows you to fully charge up the both controllers within 4 hours, and fully charge up VR headset with 3.5 hours. There are 3 USB-A ports on the dock meet your needs to charge other devices at the same time. Save Energy and More Environmentally Rechargeable batteries and controller cover help to save you from the endless cycle of replacements. Space Neat and Easy Get for Oculus quest 2 accessories VR stand stores your VR headset and controllers in\n",
      "\n",
      "Price is $45.00\n",
      "How much does this cost to the nearest dollar?\n",
      "\n",
      "Vangoa Snare Drum Kit, Marching Snare Drum, 14 x 5.5 with 10mm Padding Carry Bag, 5A DrumSticks, Speed-up Drum Key, Strap, Drum Mute Pad\n",
      "✅ Wood Shell Maple shell has good durability, resonance, and sound quality. The clear, balanced and warmer sound makes it highly versatile. 20 strands snare wires are sensitive to respond to the slightest brush movement ✅ Good Sound 9 ply maple shell is solid to resist warping and affects the readily energy is transferred from the heads to the shell, offers rich and warm wood tone and good sound projection ✅ 45° roundover Edges 45° round-over bearing edge promotes finely balanced, has amazing clarity without premature delay, which results in a classic vintage sound and brighter sound. Less attack, fewer overtones, and less definition ✅\n",
      "\n",
      "Price is $\n"
     ]
    }
   ],
   "source": [
    "\n",
    "print(train['prompt'].iloc[3])\n",
    "print(test['test_prompt'].iloc[3])"
   ]
  },
  {
   "cell_type": "markdown",
   "id": "e999c06e",
   "metadata": {},
   "source": [
    "## TESTER CLASS"
   ]
  },
  {
   "cell_type": "code",
   "execution_count": 7,
   "id": "1ca54079",
   "metadata": {},
   "outputs": [],
   "source": [
    "import math "
   ]
  },
  {
   "cell_type": "code",
   "execution_count": 12,
   "id": "e4c2b6b3",
   "metadata": {},
   "outputs": [],
   "source": [
    "# COLOR MAP\n",
    "GREEN = \"\\033[92m\"\n",
    "ORANGE = \"\\033[93m\"\n",
    "RED = \"\\033[91m\"\n",
    "RESET = \"\\033[0m\"\n",
    "COLOR_MAP = {\"red\":RED, \"orange\": ORANGE, \"green\": GREEN}\n",
    "class Tester :\n",
    "\n",
    "    def __init__(self,predictor , title=None , data=test , size = 250):\n",
    "        self.predictor = predictor \n",
    "        self.data = data \n",
    "        self.title = title or predictor.__name__.replace(\"_\",\" \").title()\n",
    "        self.size = size \n",
    "        self.guesses = []\n",
    "        self.truths = []\n",
    "        self.errors = []\n",
    "        self.lche = []\n",
    "        self.relative_errors = []\n",
    "        self.colors = []\n",
    "\n",
    "    def run_datapoint(self , i):\n",
    "        datapoint = self.data.iloc[i]\n",
    "\n",
    "        guess = float(self.predictor(datapoint)) #predicted output\n",
    "        truth = float(datapoint['price'])\n",
    "\n",
    "        error = abs(truth - guess)\n",
    "        relative_errror = abs((error)/truth)\n",
    "        log_cosh_error = self.safe_log_cosh(error)\n",
    "\n",
    "        color = self.color_for(error , truth) #for better outputs\n",
    "        title = datapoint['title'] if len(datapoint['title']) <= 40 else datapoint['title'][:40] + '...'\n",
    "        \n",
    "        self.guesses.append(guess)\n",
    "        self.truths.append(truth)\n",
    "        self.relative_errors.append(relative_errror)\n",
    "        self.errors.append(error)\n",
    "        self.colors.append(color)\n",
    "        self.lche.append(log_cosh_error)\n",
    "\n",
    "        print(f\"{COLOR_MAP[color]}{i+1}: Guess: ${guess:,.2f} Truth: ${truth:,.2f} Error: ${error:,.2f}  Relative:${relative_errror:,.2f} Item: {title}{RESET}\")\n",
    "    \n",
    "    def safe_log_cosh(self,x):\n",
    "        \"\"\"avoids overflow\"\"\"\n",
    "        x = max(min(x, 500), -500)  # Cap between -500 and 500\n",
    "        return math.log(math.cosh(x))\n",
    "    def color_for(self , error , truth):\n",
    "        if error < 0.4 or error/truth < 0.2:\n",
    "            return 'green'\n",
    "        elif error < 0.8 or error/truth < 0.4:\n",
    "            return 'orange'\n",
    "        else :\n",
    "            return 'red'\n",
    "        \n",
    "    def chart(self,title):\n",
    "        max_error = max(self.errors)\n",
    "        plt.figure(figsize=(12,8))\n",
    "        max_val = max(max(self.truths),max(self.guesses))\n",
    "        plt.plot([0,max_val],[0,max_val],color='skyblue' , lw=2 , alpha=0.6)\n",
    "        plt.scatter(self.truths,self.guesses,s=3,c=self.colors)\n",
    "        plt.xlabel('True Values')\n",
    "        plt.ylabel('Guess Values by Model')\n",
    "        plt.xlim(0,max_val)\n",
    "        plt.ylim(0,max_val)\n",
    "        plt.title(title)\n",
    "        plt.show()\n",
    "    \n",
    "    def report(self):\n",
    "        average_error = sum(self.errors) / self.size \n",
    "        relative_error = sum(self.relative_errors) /self.size\n",
    "        bang_on = sum(1 for color in self.colors if color =='green')\n",
    "        title = f\"{self.title} Error=${average_error:,.2f}  Percentage_Error={relative_error*100:,.2f}%  bang_on={bang_on/self.size*100:.1f}%\"\n",
    "        self.chart(title)\n",
    "    \n",
    "    def run (self):\n",
    "        self.error = 0 \n",
    "        for i in range (self.size):\n",
    "            self.run_datapoint(i)\n",
    "        self.report()\n",
    "    \n",
    "    @classmethod\n",
    "    def test(cls , function):\n",
    "        cls(function).run()\n"
   ]
  },
  {
   "cell_type": "markdown",
   "id": "c6d24181",
   "metadata": {},
   "source": [
    "### Basic testing"
   ]
  },
  {
   "cell_type": "code",
   "execution_count": 13,
   "id": "fef6919b",
   "metadata": {},
   "outputs": [
    {
     "name": "stdout",
     "output_type": "stream",
     "text": [
      "\u001b[93m1: Guess: $655.00 Truth: $899.95 Error: $244.95 Relative:$0.27 Item: ZLINE 30 in. Wooden Wall Mount Range Hoo...\u001b[0m\n",
      "\u001b[91m2: Guess: $115.00 Truth: $3.40 Error: $111.60 Relative:$32.82 Item: Rise of Nations Rise of Legends\u001b[0m\n",
      "\u001b[91m3: Guess: $26.00 Truth: $11.99 Error: $14.01 Relative:$1.17 Item: Anti Vibration Pads for Washing Machine ...\u001b[0m\n",
      "\u001b[91m4: Guess: $760.00 Truth: $69.99 Error: $690.01 Relative:$9.86 Item: Vangoa Snare Drum Kit, Marching Snare Dr...\u001b[0m\n",
      "\u001b[91m5: Guess: $282.00 Truth: $45.99 Error: $236.01 Relative:$5.13 Item: BaoFeng Walkie Talkies for Adults Long R...\u001b[0m\n",
      "\u001b[91m6: Guess: $251.00 Truth: $104.99 Error: $146.01 Relative:$1.39 Item: Auto Ventshade [AVS] Aeroskin Hood Prote...\u001b[0m\n",
      "\u001b[93m7: Guess: $229.00 Truth: $375.40 Error: $146.40 Relative:$0.39 Item: LEGO Star Wars Darth Vader's TIE Fighter...\u001b[0m\n",
      "\u001b[91m8: Guess: $143.00 Truth: $21.96 Error: $121.04 Relative:$5.51 Item: PDP Rock Candy Gesture Controller for Wi...\u001b[0m\n"
     ]
    },
    {
     "ename": "OverflowError",
     "evalue": "math range error",
     "output_type": "error",
     "traceback": [
      "\u001b[31m---------------------------------------------------------------------------\u001b[39m",
      "\u001b[31mOverflowError\u001b[39m                             Traceback (most recent call last)",
      "\u001b[36mCell\u001b[39m\u001b[36m \u001b[39m\u001b[32mIn[13]\u001b[39m\u001b[32m, line 8\u001b[39m\n\u001b[32m      5\u001b[39m     \u001b[38;5;28;01mreturn\u001b[39;00m random.randrange(\u001b[32m1\u001b[39m, \u001b[32m1000\u001b[39m)\n\u001b[32m      7\u001b[39m \u001b[38;5;66;03m# 3. Test any function\u001b[39;00m\n\u001b[32m----> \u001b[39m\u001b[32m8\u001b[39m \u001b[43mTester\u001b[49m\u001b[43m.\u001b[49m\u001b[43mtest\u001b[49m\u001b[43m(\u001b[49m\u001b[43mrandom_pricer\u001b[49m\u001b[43m)\u001b[49m\n",
      "\u001b[36mCell\u001b[39m\u001b[36m \u001b[39m\u001b[32mIn[12]\u001b[39m\u001b[32m, line 80\u001b[39m, in \u001b[36mTester.test\u001b[39m\u001b[34m(cls, function)\u001b[39m\n\u001b[32m     78\u001b[39m \u001b[38;5;129m@classmethod\u001b[39m\n\u001b[32m     79\u001b[39m \u001b[38;5;28;01mdef\u001b[39;00m\u001b[38;5;250m \u001b[39m\u001b[34mtest\u001b[39m(\u001b[38;5;28mcls\u001b[39m , function):\n\u001b[32m---> \u001b[39m\u001b[32m80\u001b[39m     \u001b[38;5;28;43mcls\u001b[39;49m\u001b[43m(\u001b[49m\u001b[43mfunction\u001b[49m\u001b[43m)\u001b[49m\u001b[43m.\u001b[49m\u001b[43mrun\u001b[49m\u001b[43m(\u001b[49m\u001b[43m)\u001b[49m\n",
      "\u001b[36mCell\u001b[39m\u001b[36m \u001b[39m\u001b[32mIn[12]\u001b[39m\u001b[32m, line 75\u001b[39m, in \u001b[36mTester.run\u001b[39m\u001b[34m(self)\u001b[39m\n\u001b[32m     73\u001b[39m \u001b[38;5;28mself\u001b[39m.error = \u001b[32m0\u001b[39m \n\u001b[32m     74\u001b[39m \u001b[38;5;28;01mfor\u001b[39;00m i \u001b[38;5;129;01min\u001b[39;00m \u001b[38;5;28mrange\u001b[39m (\u001b[38;5;28mself\u001b[39m.size):\n\u001b[32m---> \u001b[39m\u001b[32m75\u001b[39m     \u001b[38;5;28;43mself\u001b[39;49m\u001b[43m.\u001b[49m\u001b[43mrun_datapoint\u001b[49m\u001b[43m(\u001b[49m\u001b[43mi\u001b[49m\u001b[43m)\u001b[49m\n\u001b[32m     76\u001b[39m \u001b[38;5;28mself\u001b[39m.report()\n",
      "\u001b[36mCell\u001b[39m\u001b[36m \u001b[39m\u001b[32mIn[12]\u001b[39m\u001b[32m, line 29\u001b[39m, in \u001b[36mTester.run_datapoint\u001b[39m\u001b[34m(self, i)\u001b[39m\n\u001b[32m     27\u001b[39m error = \u001b[38;5;28mabs\u001b[39m(truth - guess)\n\u001b[32m     28\u001b[39m relative_errror = \u001b[38;5;28mabs\u001b[39m((error)/truth)\n\u001b[32m---> \u001b[39m\u001b[32m29\u001b[39m log_cosh_error = math.log(\u001b[43mmath\u001b[49m\u001b[43m.\u001b[49m\u001b[43mcosh\u001b[49m\u001b[43m(\u001b[49m\u001b[43merror\u001b[49m\u001b[43m)\u001b[49m)\n\u001b[32m     31\u001b[39m color = \u001b[38;5;28mself\u001b[39m.color_for(error , truth) \u001b[38;5;66;03m#for better outputs\u001b[39;00m\n\u001b[32m     32\u001b[39m title = datapoint[\u001b[33m'\u001b[39m\u001b[33mtitle\u001b[39m\u001b[33m'\u001b[39m] \u001b[38;5;28;01mif\u001b[39;00m \u001b[38;5;28mlen\u001b[39m(datapoint[\u001b[33m'\u001b[39m\u001b[33mtitle\u001b[39m\u001b[33m'\u001b[39m]) <= \u001b[32m40\u001b[39m \u001b[38;5;28;01melse\u001b[39;00m datapoint[\u001b[33m'\u001b[39m\u001b[33mtitle\u001b[39m\u001b[33m'\u001b[39m][:\u001b[32m40\u001b[39m] + \u001b[33m'\u001b[39m\u001b[33m...\u001b[39m\u001b[33m'\u001b[39m\n",
      "\u001b[31mOverflowError\u001b[39m: math range error"
     ]
    }
   ],
   "source": [
    "random.seed(42)\n",
    "\n",
    "# 2. Define any predictor function\n",
    "def random_pricer(item):\n",
    "    return random.randrange(1, 1000)\n",
    "\n",
    "# 3. Test any function\n",
    "Tester.test(random_pricer)\n"
   ]
  },
  {
   "cell_type": "code",
   "execution_count": null,
   "id": "8221aee6",
   "metadata": {},
   "outputs": [],
   "source": [
    "prices = test['price'].to_list()\n",
    "\n",
    "avg_price = sum(prices) / len(prices)\n",
    "def average_pricer(item):\n",
    "    return avg_price\n",
    "\n",
    "results = tester.test_function(average_pricer , num_samples=500)"
   ]
  }
 ],
 "metadata": {
  "kernelspec": {
   "display_name": "product",
   "language": "python",
   "name": "python3"
  },
  "language_info": {
   "codemirror_mode": {
    "name": "ipython",
    "version": 3
   },
   "file_extension": ".py",
   "mimetype": "text/x-python",
   "name": "python",
   "nbconvert_exporter": "python",
   "pygments_lexer": "ipython3",
   "version": "3.12.11"
  }
 },
 "nbformat": 4,
 "nbformat_minor": 5
}
