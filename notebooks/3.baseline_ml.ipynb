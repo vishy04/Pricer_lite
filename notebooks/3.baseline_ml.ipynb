{
 "cells": [
  {
   "cell_type": "code",
   "execution_count": 1,
   "id": "a38991d9",
   "metadata": {},
   "outputs": [],
   "source": [
    "#General Imports\n",
    "import os \n",
    "import sys\n",
    "from dotenv import load_dotenv #importing env file\n",
    "import pandas as pd\n",
    "import random\n",
    "import pickle\n",
    "\n"
   ]
  },
  {
   "cell_type": "code",
   "execution_count": 2,
   "id": "b2a5bd37",
   "metadata": {},
   "outputs": [],
   "source": [
    "#ML Imports\n",
    "import matplotlib.pyplot as plt\n",
    "import pandas as pd\n",
    "import numpy as np\n",
    "from sklearn.linear_model import LinearRegression\n",
    "from sklearn.metrics import mean_squared_error, r2_score\n",
    "from sklearn.preprocessing import StandardScaler"
   ]
  },
  {
   "cell_type": "code",
   "execution_count": 3,
   "id": "d8c4ebe5",
   "metadata": {},
   "outputs": [],
   "source": [
    "#NLP\n",
    "import gensim\n",
    "from sklearn.feature_extraction.text import CountVectorizer\n",
    "from gensim.models import Word2Vec\n",
    "from gensim.utils import simple_preprocess"
   ]
  },
  {
   "cell_type": "code",
   "execution_count": 4,
   "id": "dd43d9d8",
   "metadata": {},
   "outputs": [],
   "source": [
    "train_path = '/Users/vishesh/projects/Pricer/data/balanced/train.pkl'\n",
    "test_path = '/Users/vishesh/projects/Pricer/data/balanced/test.pkl'\n",
    "with open(train_path,'rb') as f:\n",
    "    train = pickle.load(f)\n",
    "with open(test_path,'rb') as f:\n",
    "    test = pickle.load(f)"
   ]
  },
  {
   "cell_type": "code",
   "execution_count": 5,
   "id": "b40eaabf",
   "metadata": {},
   "outputs": [
    {
     "name": "stdout",
     "output_type": "stream",
     "text": [
      "Starfilm Screen Protector For Thinkpad X1 Yoga Gen6/2021 Touch Screen Laptop 14Inch Draw&Write Like Paper Screen Protector (14inch 16:10 draw like paper)\n"
     ]
    }
   ],
   "source": [
    "print(train['title'].iloc[232344])"
   ]
  },
  {
   "cell_type": "code",
   "execution_count": 6,
   "id": "8da2442d",
   "metadata": {},
   "outputs": [
    {
     "name": "stdout",
     "output_type": "stream",
     "text": [
      "How much does this cost to the nearest dollar?\n",
      "\n",
      "Upgraded Charging Dock with LED Light for Oculus Quest Station with 2 Rechargeable Batteries for Meta Oculus Quest 2 Accessories,Headset Display Stand and Controller Mount,Magnetic Cable\n",
      "Magetic Charing Station for OCULUS QUEST 2 Charging Dock Built to charge the Oculus Quest 2, the Elite Strap, VR headset and two Touch Controllers simultaneously. Lightning Speed Charge Great for Elite Gamer This charger dock for valve index allows you to fully charge up the both controllers within 4 hours, and fully charge up VR headset with 3.5 hours. There are 3 USB-A ports on the dock meet your needs to charge other devices at the same time. Save Energy and More Environmentally Rechargeable batteries and controller cover help to save you from the endless cycle of replacements. Space Neat and Easy Get for Oculus quest 2 accessories VR stand stores your VR headset and controllers in\n",
      "\n",
      "Price is $45.00\n",
      "How much does this cost to the nearest dollar?\n",
      "\n",
      "Vangoa Snare Drum Kit, Marching Snare Drum, 14 x 5.5 with 10mm Padding Carry Bag, 5A DrumSticks, Speed-up Drum Key, Strap, Drum Mute Pad\n",
      "✅ Wood Shell Maple shell has good durability, resonance, and sound quality. The clear, balanced and warmer sound makes it highly versatile. 20 strands snare wires are sensitive to respond to the slightest brush movement ✅ Good Sound 9 ply maple shell is solid to resist warping and affects the readily energy is transferred from the heads to the shell, offers rich and warm wood tone and good sound projection ✅ 45° roundover Edges 45° round-over bearing edge promotes finely balanced, has amazing clarity without premature delay, which results in a classic vintage sound and brighter sound. Less attack, fewer overtones, and less definition ✅\n",
      "\n",
      "Price is $\n"
     ]
    }
   ],
   "source": [
    "\n",
    "print(train['prompt'].iloc[3])\n",
    "print(test['test_prompt'].iloc[3])"
   ]
  },
  {
   "cell_type": "code",
   "execution_count": null,
   "id": "e4c2b6b3",
   "metadata": {},
   "outputs": [
    {
     "data": {
      "text/plain": [
       "34.99"
      ]
     },
     "execution_count": 25,
     "metadata": {},
     "output_type": "execute_result"
    }
   ],
   "source": [
    "import math\n",
    "class Tester:\n",
    "\n",
    "    def __init__(self,i):\n",
    "        datapoint = self.data.iloc[i]\n",
    "        self.predictor = predictor \n",
    "\n",
    "    def color_for(self,error,truth):\n",
    "        #defining what I will call as a good guess and color coding for better visibility\n",
    "        if relative_error < 0.15:\n",
    "            return \"green\"\n",
    "        elif relative_error < 0.3:\n",
    "            return \"yellow\"\n",
    "        else :\n",
    "            return \"red\"\n",
    "        \n",
    "    def run_datapoint(self ,i):\n",
    "        #guess and error calculation\n",
    "        datapoint = self.data[i]\n",
    "        guess = self.predictor(datapoint)\n",
    "        truth = datapoint[\"price\"] \n",
    "        #error metrics\n",
    "        relative_error = abs(guess-truth)/truth \n",
    "        percentage_error = (relative_error)*100 #percentage error\n",
    "        #mean absolute percentage error - blows at truth = 0\n",
    "        mape_component = abs(truth-guess) / truth\n",
    "        #symmetric mape - solves mape blowing\n",
    "        smape_component = abs(truth-guess) / ((truth + guess)/2)\n",
    "\n",
    "        #log(cosh(error))-> how much % the model is off ->best measure ithink\n",
    "        log_cosh_error = math.log(math.cosh(guess-truth))\n"
   ]
  },
  {
   "cell_type": "code",
   "execution_count": null,
   "id": "497bb528",
   "metadata": {},
   "outputs": [],
   "source": []
  }
 ],
 "metadata": {
  "kernelspec": {
   "display_name": "product",
   "language": "python",
   "name": "python3"
  },
  "language_info": {
   "codemirror_mode": {
    "name": "ipython",
    "version": 3
   },
   "file_extension": ".py",
   "mimetype": "text/x-python",
   "name": "python",
   "nbconvert_exporter": "python",
   "pygments_lexer": "ipython3",
   "version": "3.12.11"
  }
 },
 "nbformat": 4,
 "nbformat_minor": 5
}
