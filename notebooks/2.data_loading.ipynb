{
 "cells": [
  {
   "cell_type": "code",
   "execution_count": 4,
   "id": "06acff91",
   "metadata": {},
   "outputs": [
    {
     "ename": "ModuleNotFoundError",
     "evalue": "No module named 'src'",
     "output_type": "error",
     "traceback": [
      "\u001b[31m---------------------------------------------------------------------------\u001b[39m",
      "\u001b[31mModuleNotFoundError\u001b[39m                       Traceback (most recent call last)",
      "\u001b[36mCell\u001b[39m\u001b[36m \u001b[39m\u001b[32mIn[4]\u001b[39m\u001b[32m, line 4\u001b[39m\n\u001b[32m      2\u001b[39m \u001b[38;5;28;01mimport\u001b[39;00m\u001b[38;5;250m \u001b[39m\u001b[34;01mos\u001b[39;00m \n\u001b[32m      3\u001b[39m \u001b[38;5;28;01mfrom\u001b[39;00m\u001b[38;5;250m \u001b[39m\u001b[34;01mdotenv\u001b[39;00m\u001b[38;5;250m \u001b[39m\u001b[38;5;28;01mimport\u001b[39;00m load_dotenv \u001b[38;5;66;03m#importing env file\u001b[39;00m\n\u001b[32m----> \u001b[39m\u001b[32m4\u001b[39m \u001b[38;5;28;01mimport\u001b[39;00m\u001b[38;5;250m \u001b[39m\u001b[34;01msrc\u001b[39;00m\n",
      "\u001b[31mModuleNotFoundError\u001b[39m: No module named 'src'"
     ]
    }
   ],
   "source": [
    "from huggingface_hub import login\n",
    "import os \n",
    "from dotenv import load_dotenv #importing env file\n"
   ]
  },
  {
   "cell_type": "code",
   "execution_count": 2,
   "id": "7e20028b",
   "metadata": {},
   "outputs": [
    {
     "name": "stderr",
     "output_type": "stream",
     "text": [
      "Note: Environment variable`HF_TOKEN` is set and is the current active token independently from the token you've just configured.\n"
     ]
    }
   ],
   "source": [
    "load_dotenv()\n",
    "hf_token =os.environ[\"HF_TOKEN\"]\n",
    "login(hf_token, add_to_git_credential=True)\n",
    "\n"
   ]
  },
  {
   "cell_type": "code",
   "execution_count": null,
   "id": "96a968e2",
   "metadata": {},
   "outputs": [],
   "source": [
    "#importing src in order to import items \n",
    "import sys\n",
    "import os\n",
    "\n",
    "# Adding src to Python path\n",
    "sys.path.append(os.path.join(os.getcwd(), '..', 'src'))\n",
    "\n",
    "from items import Item"
   ]
  },
  {
   "cell_type": "code",
   "execution_count": 6,
   "id": "adea74ef",
   "metadata": {},
   "outputs": [],
   "source": [
    "from datetime import datetime\n",
    "from tqdm import tqdm\n",
    "from datasets import load_dataset\n",
    "\n",
    "\n",
    "# We'll only process items within this price range.\n",
    "MIN_PRICE = 0.50\n",
    "MAX_PRICE = 999.49\n",
    "\n",
    "def process_products_for_category(category_name):\n",
    "    \"\"\"\n",
    "    Loads raw product data for a category, filters out unwanted items,\n",
    "    and returns a clean list of Item objects.\n",
    "    \"\"\"\n",
    "    start_time = datetime.now()\n",
    "\n",
    "    # Load the dataset from the hub.\n",
    "    try:\n",
    "        dataset = load_dataset(\n",
    "            \"McAuley-Lab/Amazon-Reviews-2023\",\n",
    "            f\"raw_meta_{category_name}\",\n",
    "            split=\"full\",\n",
    "            trust_remote_code=True\n",
    "        )\n",
    "    except Exception as e:\n",
    "        return []\n",
    "\n",
    "    clean_items = []\n",
    "    # Loop through and validate each item.\n",
    "    for data_point in tqdm(dataset, desc=\"   - Filtering\"):\n",
    "        try:\n",
    "            price_str = data_point.get('price')\n",
    "            if not price_str:\n",
    "                continue\n",
    "\n",
    "            price = float(price_str)\n",
    "\n",
    "            if MIN_PRICE <= price <= MAX_PRICE:\n",
    "                item = Item(data_point, price)\n",
    "                if item.include:\n",
    "                    item.category = category_name\n",
    "                    clean_items.append(item)\n",
    "\n",
    "        except (ValueError, TypeError):\n",
    "            # Price not a valid number-skip it.\n",
    "            continue\n",
    "\n",
    "    end_time = datetime.now()\n",
    "    duration_minutes = (end_time - start_time).total_seconds() / 60\n",
    "\n",
    "    print(f\"{len(clean_items):,} items for '{category_name}'.\")\n",
    "    print(f\"time: {duration_minutes:.1f} minutes.\")\n",
    "\n",
    "    return clean_items\n",
    "\n",
    "\n",
    "\n"
   ]
  },
  {
   "cell_type": "code",
   "execution_count": 7,
   "id": "d1c7f663",
   "metadata": {},
   "outputs": [
    {
     "name": "stderr",
     "output_type": "stream",
     "text": [
      "   - Filtering: 100%|██████████| 94327/94327 [00:34<00:00, 2721.49it/s]"
     ]
    },
    {
     "name": "stdout",
     "output_type": "stream",
     "text": [
      "27,047 items for 'Appliances'.\n",
      "time: 0.7 minutes.\n"
     ]
    },
    {
     "name": "stderr",
     "output_type": "stream",
     "text": [
      "\n"
     ]
    }
   ],
   "source": [
    "items = process_products_for_category('Appliances')\n"
   ]
  },
  {
   "cell_type": "code",
   "execution_count": null,
   "id": "79572a2a",
   "metadata": {},
   "outputs": [],
   "source": [
    "dataset_names=[\n",
    "    \"Automotive\",\n",
    "    \"Electronics\",\n",
    "    \"Office_Products\",\n",
    "    \"Tools_and_Home_Improvement\",\n",
    "    \"Cell_Phones_and_Accessories\",\n",
    "    \"Toys_and_Games\",\n",
    "    \"Appliances\",\n",
    "    \"Musical_Instruments\",\n",
    "]"
   ]
  },
  {
   "cell_type": "code",
   "execution_count": null,
   "id": "5faa1df5",
   "metadata": {},
   "outputs": [],
   "source": []
  }
 ],
 "metadata": {
  "kernelspec": {
   "display_name": "pricer",
   "language": "python",
   "name": "python3"
  },
  "language_info": {
   "codemirror_mode": {
    "name": "ipython",
    "version": 3
   },
   "file_extension": ".py",
   "mimetype": "text/x-python",
   "name": "python",
   "nbconvert_exporter": "python",
   "pygments_lexer": "ipython3",
   "version": "3.13.5"
  }
 },
 "nbformat": 4,
 "nbformat_minor": 5
}
