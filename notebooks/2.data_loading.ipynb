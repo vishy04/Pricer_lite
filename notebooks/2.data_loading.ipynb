{
 "cells": [
  {
   "cell_type": "code",
   "execution_count": null,
   "id": "06acff91",
   "metadata": {},
   "outputs": [],
   "source": [
    "from huggingface_hub import login\n",
    "import os \n",
    "from dotenv import load_dotenv #importing env file\n"
   ]
  },
  {
   "cell_type": "code",
   "execution_count": null,
   "id": "7e20028b",
   "metadata": {},
   "outputs": [],
   "source": [
    "load_dotenv()\n",
    "hf_token =os.environ[\"HF_TOKEN\"]\n",
    "login(hf_token, add_to_git_credential=True)\n",
    "\n"
   ]
  },
  {
   "cell_type": "code",
   "execution_count": null,
   "id": "96a968e2",
   "metadata": {},
   "outputs": [],
   "source": [
    "#importing src in order to import items \n",
    "import sys\n",
    "import os\n",
    "\n",
    "# Adding src to Python path\n",
    "sys.path.append(os.path.join(os.getcwd(), '..', 'src'))\n",
    "\n",
    "from items import Item"
   ]
  },
  {
   "cell_type": "code",
   "execution_count": null,
   "id": "adea74ef",
   "metadata": {},
   "outputs": [],
   "source": [
    "from datetime import datetime\n",
    "from tqdm import tqdm\n",
    "from datasets import load_dataset\n",
    "\n",
    "\n",
    "# We'll only process items within this price range.\n",
    "MIN_PRICE = 0.50\n",
    "MAX_PRICE = 999.49\n",
    "\n",
    "def process_products_for_category(category_name):\n",
    "    \"\"\"\n",
    "    Loads raw product data for a category, filters out unwanted items,\n",
    "    and returns a clean list of Item objects.\n",
    "    \"\"\"\n",
    "    start_time = datetime.now()\n",
    "\n",
    "    # Load the dataset from the hub.\n",
    "    try:\n",
    "        dataset = load_dataset(\n",
    "            \"McAuley-Lab/Amazon-Reviews-2023\",\n",
    "            f\"raw_meta_{category_name}\",\n",
    "            split=\"full\",\n",
    "            trust_remote_code=True\n",
    "        )\n",
    "    except Exception as e:\n",
    "        return []\n",
    "\n",
    "    clean_items = []\n",
    "    # Loop through and validate each item.\n",
    "    for data_point in tqdm(dataset, desc=\"   - Filtering\"):\n",
    "        try:\n",
    "            price_str = data_point.get('price')\n",
    "            if not price_str:\n",
    "                continue\n",
    "\n",
    "            price = float(price_str)\n",
    "\n",
    "            if MIN_PRICE <= price <= MAX_PRICE:\n",
    "                item = Item(data_point, price)\n",
    "                if item.include:\n",
    "                    item.category = category_name\n",
    "                    clean_items.append(item)\n",
    "\n",
    "        except (ValueError, TypeError):\n",
    "            # Price not a valid number-skip it.\n",
    "            continue\n",
    "\n",
    "    end_time = datetime.now()\n",
    "    duration_minutes = (end_time - start_time).total_seconds() / 60\n",
    "\n",
    "    print(f\"{len(clean_items):,} items for '{category_name}'.\")\n",
    "    print(f\"time: {duration_minutes:.1f} minutes.\")\n",
    "\n",
    "    return clean_items\n",
    "\n",
    "\n",
    "\n"
   ]
  },
  {
   "cell_type": "code",
   "execution_count": null,
   "id": "d1c7f663",
   "metadata": {},
   "outputs": [],
   "source": [
    "items = process_products_for_category('Appliances')\n"
   ]
  },
  {
   "cell_type": "code",
   "execution_count": null,
   "id": "79572a2a",
   "metadata": {},
   "outputs": [],
   "source": [
    "dataset_names=[\n",
    "    # \"Automotive\",\n",
    "    # \"Electronics\",\n",
    "    # \"Office_Products\",\n",
    "    # \"Tools_and_Home_Improvement\",\n",
    "    # \"Cell_Phones_and_Accessories\",\n",
    "    \"Toys_and_Games\",\n",
    "    \"Appliances\",\n",
    "    \"Musical_Instruments\",\n",
    "    \"Health_and_Personal_Care.jsonl\",\n",
    "    \"Video_Games\" ,\n",
    "    \"Grocery_and_Gourmet_Food\",\n",
    "    \"All_Beauty\",\n",
    "]"
   ]
  },
  {
   "cell_type": "code",
   "execution_count": null,
   "id": "5faa1df5",
   "metadata": {},
   "outputs": [],
   "source": [
    "items=[]\n",
    "for dataset_name in dataset_names:\n",
    "    loader = process_products_for_category(dataset_name)\n",
    "    items.extend(loader)"
   ]
  },
  {
   "cell_type": "code",
   "execution_count": null,
   "id": "6cf51aa2",
   "metadata": {},
   "outputs": [],
   "source": [
    "print(f\"Total No of items is :{len(items)}\")"
   ]
  },
  {
   "cell_type": "code",
   "execution_count": null,
   "id": "311efc7f",
   "metadata": {},
   "outputs": [],
   "source": []
  }
 ],
 "metadata": {
  "kernelspec": {
   "display_name": "pricer",
   "language": "python",
   "name": "python3"
  },
  "language_info": {
   "codemirror_mode": {
    "name": "ipython",
    "version": 3
   },
   "file_extension": ".py",
   "mimetype": "text/x-python",
   "name": "python",
   "nbconvert_exporter": "python",
   "pygments_lexer": "ipython3",
   "version": "3.13.5"
  }
 },
 "nbformat": 4,
 "nbformat_minor": 5
}
