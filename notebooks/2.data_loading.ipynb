{
 "cells": [
  {
   "cell_type": "code",
   "execution_count": 1,
   "id": "06acff91",
   "metadata": {},
   "outputs": [],
   "source": [
    "from huggingface_hub import login\n",
    "import os \n",
    "from dotenv import load_dotenv #importing env file\n"
   ]
  },
  {
   "cell_type": "code",
   "execution_count": 2,
   "id": "7e20028b",
   "metadata": {},
   "outputs": [
    {
     "name": "stderr",
     "output_type": "stream",
     "text": [
      "Note: Environment variable`HF_TOKEN` is set and is the current active token independently from the token you've just configured.\n"
     ]
    }
   ],
   "source": [
    "load_dotenv()\n",
    "hf_token =os.environ[\"HF_TOKEN\"]\n",
    "login(hf_token, add_to_git_credential=True)\n",
    "\n"
   ]
  },
  {
   "cell_type": "code",
   "execution_count": 3,
   "id": "96a968e2",
   "metadata": {},
   "outputs": [],
   "source": [
    "#importing src in order to import items \n",
    "import sys\n",
    "import os\n",
    "\n",
    "# Adding src to Python path\n",
    "sys.path.append(os.path.join(os.getcwd(), '..', 'src'))\n",
    "\n",
    "from items import Item\n",
    "\n",
    "from parallel_loader import ItemLoader"
   ]
  },
  {
   "cell_type": "code",
   "execution_count": 4,
   "id": "adea74ef",
   "metadata": {},
   "outputs": [
    {
     "name": "stdout",
     "output_type": "stream",
     "text": [
      "Loading dataset Appliances\n"
     ]
    },
    {
     "name": "stderr",
     "output_type": "stream",
     "text": [
      "100%|██████████| 95/95 [00:17<00:00,  5.42it/s]\n"
     ]
    },
    {
     "name": "stdout",
     "output_type": "stream",
     "text": [
      "Completed Appliances with 27,047 datapoints in 0.4 mins\n"
     ]
    }
   ],
   "source": [
    "items = ItemLoader(\"Appliances\").load_and_process_data()"
   ]
  },
  {
   "cell_type": "code",
   "execution_count": 5,
   "id": "79572a2a",
   "metadata": {},
   "outputs": [],
   "source": [
    "dataset_names=[\n",
    "    \"Automotive\",\n",
    "    \"Electronics\",\n",
    "    \"Office_Products\",\n",
    "    \"Tools_and_Home_Improvement\",\n",
    "    \"Cell_Phones_and_Accessories\",\n",
    "    \"Toys_and_Games\",\n",
    "    \"Appliances\",\n",
    "    \"Musical_Instruments\",\n",
    "    \"Health_and_Personal_Care.jsonl\",\n",
    "    \"Video_Games\" ,\n",
    "    \"Grocery_and_Gourmet_Food\",\n",
    "    \"All_Beauty\",\n",
    "]\n"
   ]
  },
  {
   "cell_type": "code",
   "execution_count": null,
   "id": "5faa1df5",
   "metadata": {},
   "outputs": [
    {
     "name": "stdout",
     "output_type": "stream",
     "text": [
      "Loading dataset Automotive\n"
     ]
    },
    {
     "data": {
      "application/vnd.jupyter.widget-view+json": {
       "model_id": "f70c7d310e8d4e31bb82c984e565a98d",
       "version_major": 2,
       "version_minor": 0
      },
      "text/plain": [
       "meta_Automotive.jsonl:   0%|          | 0.00/5.35G [00:00<?, ?B/s]"
      ]
     },
     "metadata": {},
     "output_type": "display_data"
    }
   ],
   "source": [
    "items=[]\n",
    "for dataset_name in dataset_names:\n",
    "    loader = ItemLoader(dataset_name)\n",
    "    items.extend(loader.load_and_process_data())"
   ]
  },
  {
   "cell_type": "code",
   "execution_count": null,
   "id": "6cf51aa2",
   "metadata": {},
   "outputs": [],
   "source": [
    "print(f\"Total No of items is :{len(items)}\")"
   ]
  },
  {
   "cell_type": "code",
   "execution_count": null,
   "id": "311efc7f",
   "metadata": {},
   "outputs": [],
   "source": []
  }
 ],
 "metadata": {
  "kernelspec": {
   "display_name": "pricer",
   "language": "python",
   "name": "python3"
  },
  "language_info": {
   "codemirror_mode": {
    "name": "ipython",
    "version": 3
   },
   "file_extension": ".py",
   "mimetype": "text/x-python",
   "name": "python",
   "nbconvert_exporter": "python",
   "pygments_lexer": "ipython3",
   "version": "3.13.5"
  }
 },
 "nbformat": 4,
 "nbformat_minor": 5
}
