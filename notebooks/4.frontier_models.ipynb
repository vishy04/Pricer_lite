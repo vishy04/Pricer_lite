{
 "cells": [
  {
   "cell_type": "code",
   "execution_count": 1,
   "id": "d531ed4b",
   "metadata": {},
   "outputs": [
    {
     "name": "stdout",
     "output_type": "stream",
     "text": [
      "Note: you may need to restart the kernel to use updated packages.\n"
     ]
    }
   ],
   "source": [
    "#Langchain for using frontier models \n",
    "%pip install -qU langchain langchain-openai langchain-anthropic langchain-google-genai"
   ]
  },
  {
   "cell_type": "code",
   "execution_count": 2,
   "id": "2f9237ca",
   "metadata": {},
   "outputs": [],
   "source": [
    "#importing tester from src directory \n",
    "import sys \n",
    "sys.path.append('..')\n",
    "from src.advanced_tester import Tester"
   ]
  },
  {
   "cell_type": "code",
   "execution_count": 3,
   "id": "779e81fa",
   "metadata": {},
   "outputs": [],
   "source": [
    "#loading the test and train data \n",
    "import pickle\n",
    "\n",
    "train_path = '/Users/vishesh/projects/Pricer/data/balanced/train.pkl'\n",
    "test_path = '/Users/vishesh/projects/Pricer/data/balanced/test.pkl'\n",
    "with open(train_path,'rb') as f:\n",
    "    train = pickle.load(f)\n",
    "with open(test_path,'rb') as f:\n",
    "    test = pickle.load(f)"
   ]
  },
  {
   "cell_type": "code",
   "execution_count": 4,
   "id": "41343a24",
   "metadata": {},
   "outputs": [],
   "source": [
    "from langchain.chat_models import init_chat_model"
   ]
  },
  {
   "cell_type": "code",
   "execution_count": 5,
   "id": "dcf501c0",
   "metadata": {},
   "outputs": [],
   "source": [
    "import re\n",
    "def extract_price(text):\n",
    "    text = text.replace('$','').replace(',','')\n",
    "    match = re.search(r\"[-+]?\\d*\\.\\d+|\\d+\", text)\n",
    "    return float(match.group()) if match else 0"
   ]
  },
  {
   "cell_type": "code",
   "execution_count": null,
   "id": "4250eed7",
   "metadata": {},
   "outputs": [],
   "source": [
    "\n",
    "models = {\n",
    "    # OpenAI Models\n",
    "    'gpt_4o': init_chat_model(\"gpt-4o\", model_provider=\"openai\"),\n",
    "    'gpt_5_mini': init_chat_model(\"gpt-5-mini\", model_provider=\"openai\"),\n",
    "    'gpt_5': init_chat_model(\"gpt-5\", model_provider=\"openai\"),\n",
    "    'gpt_5_nano': init_chat_model(\"gpt-5-nano\", model_provider=\"openai\"),\n",
    "    'gpt_4_1': init_chat_model(\"gpt-4.1\", model_provider=\"openai\"),\n",
    "    'gpt_4o_mini': init_chat_model(\"gpt-4o-mini\", model_provider=\"openai\"),\n",
    "    \n",
    "    # Anthropic Models\n",
    "    'claude_opus_4': init_chat_model(\"claude-opus-4-20250514\", model_provider=\"anthropic\"),\n",
    "    'claude_sonnet_4_5': init_chat_model(\"claude-sonnet-4-5\", model_provider=\"anthropic\"),\n",
    "    'claude_opus_4_1': init_chat_model(\"claude-opus-4-1\", model_provider=\"anthropic\"),\n",
    "    'claude_sonnet_4_0': init_chat_model(\"claude-sonnet-4-0\", model_provider=\"anthropic\"),\n",
    "    'claude_3_7_sonnet_latest': init_chat_model(\"claude-3-7-sonnet-latest\", model_provider=\"anthropic\"),\n",
    "    \n",
    "    # Google Gen-AI Models\n",
    "    'gemini_2_5_flash': init_chat_model(\"gemini-2.5-flash\", model_provider=\"google_genai\"),\n",
    "    'gemini_2_5_pro': init_chat_model(\"gemini-2.5-pro\", model_provider=\"google_genai\"),\n",
    "    'gemini_2_5_flash_lite': init_chat_model(\"gemini-2.5-flash-lite\", model_provider=\"google_genai\"),\n",
    "    'gemini_2_0_flash': init_chat_model(\"gemini-2.0-flash\", model_provider=\"google_genai\")\n",
    "}\n"
   ]
  },
  {
   "cell_type": "code",
   "execution_count": 7,
   "id": "bdb9b6ca",
   "metadata": {},
   "outputs": [],
   "source": [
    "\n",
    "prefix ='''Complete this sentence with only the price of the product , \n",
    "            do not explain give simple plain text of what you think the price of the product is'''\n"
   ]
  },
  {
   "cell_type": "code",
   "execution_count": 8,
   "id": "2364bb34",
   "metadata": {},
   "outputs": [],
   "source": [
    "def create_pricer(model):\n",
    "    def pricer(datapoint):\n",
    "        content = prefix + datapoint['test_prompt']\n",
    "        response = model.invoke(content).content\n",
    "        price = extract_price(response)\n",
    "        return price if price is not None else 0.0\n",
    "    return pricer\n"
   ]
  },
  {
   "cell_type": "code",
   "execution_count": 9,
   "id": "94e48538",
   "metadata": {},
   "outputs": [],
   "source": [
    "# dynamic pricer function\n",
    "pricers = {name: create_pricer(model) for name, model in models.items()}"
   ]
  },
  {
   "cell_type": "code",
   "execution_count": null,
   "id": "b888818f",
   "metadata": {},
   "outputs": [],
   "source": [
    "# Running tests\n",
    "for name, pricer in pricers.items():\n",
    "    print(f\"Testing {name}...\")\n",
    "    Tester.test(pricer, test)"
   ]
  },
  {
   "cell_type": "code",
   "execution_count": null,
   "id": "2548d889",
   "metadata": {},
   "outputs": [],
   "source": []
  }
 ],
 "metadata": {
  "kernelspec": {
   "display_name": "product",
   "language": "python",
   "name": "python3"
  },
  "language_info": {
   "codemirror_mode": {
    "name": "ipython",
    "version": 3
   },
   "file_extension": ".py",
   "mimetype": "text/x-python",
   "name": "python",
   "nbconvert_exporter": "python",
   "pygments_lexer": "ipython3",
   "version": "3.12.11"
  }
 },
 "nbformat": 4,
 "nbformat_minor": 5
}
