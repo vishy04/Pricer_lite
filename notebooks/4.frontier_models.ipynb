{
 "cells": [
  {
   "cell_type": "code",
   "execution_count": 3,
   "id": "d531ed4b",
   "metadata": {},
   "outputs": [
    {
     "name": "stdout",
     "output_type": "stream",
     "text": [
      "Note: you may need to restart the kernel to use updated packages.\n"
     ]
    }
   ],
   "source": [
    "#Langchain for using frontier models \n",
    "%pip install -qU langchain langchain-openai langchain-anthropic langchain-google-genai"
   ]
  },
  {
   "cell_type": "code",
   "execution_count": 4,
   "id": "2f9237ca",
   "metadata": {},
   "outputs": [],
   "source": [
    "#importing tester from src directory \n",
    "import sys \n",
    "sys.path.append('..')\n",
    "from src.tester import Tester"
   ]
  },
  {
   "cell_type": "code",
   "execution_count": 5,
   "id": "779e81fa",
   "metadata": {},
   "outputs": [],
   "source": [
    "#loading the test and train data \n",
    "import pickle\n",
    "\n",
    "train_path = '/Users/vishesh/projects/Pricer/data/balanced/train.pkl'\n",
    "test_path = '/Users/vishesh/projects/Pricer/data/balanced/test.pkl'\n",
    "with open(train_path,'rb') as f:\n",
    "    train = pickle.load(f)\n",
    "with open(test_path,'rb') as f:\n",
    "    test = pickle.load(f)"
   ]
  },
  {
   "cell_type": "code",
   "execution_count": 6,
   "id": "41343a24",
   "metadata": {},
   "outputs": [],
   "source": [
    "from langchain.chat_models import init_chat_model"
   ]
  },
  {
   "cell_type": "code",
   "execution_count": 48,
   "id": "bdb9b6ca",
   "metadata": {},
   "outputs": [],
   "source": [
    "\n",
    "prefix ='''Complete this sentence with only the price of the product , \n",
    "            do not explain give simple plain text of what you think the price of the product is'''\n"
   ]
  },
  {
   "cell_type": "code",
   "execution_count": 65,
   "id": "24f2cc76",
   "metadata": {},
   "outputs": [],
   "source": [
    "gpt_4o = init_chat_model(\"gpt-4o\", model_provider=\"openai\")\n",
    "gpt_5_mini = init_chat_model(\"gpt-5-mini\", model_provider=\"openai\")\n",
    "gpt_5 = init_chat_model(\"gpt-5\", model_provider=\"openai\")\n",
    "gemini_2_5_flash = init_chat_model(\"gemini-2.5-flash\", model_provider=\"google_genai\")\n",
    "gemini_2_5_pro = init_chat_model(\"gemini-2.5-pro\", model_provider=\"google_genai\")\n",
    "claude_opus_4 = init_chat_model(\"claude-opus-4-20250514\",model_provider=\"anthropic\")\n",
    "claude_sonnet_4_5 = init_chat_model(\"claude-sonnet-4-5\",model_provider=\"anthropic\")\n"
   ]
  },
  {
   "cell_type": "code",
   "execution_count": 43,
   "id": "11855a46",
   "metadata": {},
   "outputs": [],
   "source": [
    "#getting only the price digits in the LLM Output\n",
    "import re\n",
    "def extract_price(text):\n",
    "    pattern = r'[-+]?\\d*\\.\\d+|\\d+'\n",
    "    match = re.search(pattern,text)\n",
    "    return float(match.group().replace('$','')) if match else 0"
   ]
  },
  {
   "cell_type": "code",
   "execution_count": 49,
   "id": "41e6d081",
   "metadata": {},
   "outputs": [],
   "source": [
    "def gpt_4o_pricer(datapoint):\n",
    "    content = prefix + datapoint['test_prompt']\n",
    "    response = gpt_4o.invoke(content).content\n",
    "    price = extract_price(response)\n",
    "    return price if price is not None else 0.0"
   ]
  },
  {
   "cell_type": "code",
   "execution_count": null,
   "id": "b06603e0",
   "metadata": {},
   "outputs": [],
   "source": [
    "Tester.test(gpt_4o_pricer,test)"
   ]
  },
  {
   "cell_type": "code",
   "execution_count": 54,
   "id": "576425ad",
   "metadata": {},
   "outputs": [],
   "source": [
    "def gpt_5_mini_pricer(datapoint):\n",
    "    content = prefix + datapoint['test_prompt']\n",
    "    response = gpt_5_mini.invoke(content).content\n",
    "    price = extract_price(response)\n",
    "    return price if price is not None else 0.0"
   ]
  },
  {
   "cell_type": "code",
   "execution_count": null,
   "id": "5c649ffb",
   "metadata": {},
   "outputs": [],
   "source": [
    "Tester.test(gpt_5_mini_pricer ,test)"
   ]
  },
  {
   "cell_type": "code",
   "execution_count": 63,
   "id": "e9a839c4",
   "metadata": {},
   "outputs": [],
   "source": [
    "def gpt_5_pricer(datapoint):\n",
    "    content = prefix + datapoint['test_prompt']\n",
    "    response = gpt_5.invoke(content).content\n",
    "    price = extract_price(response)\n",
    "    return price if price is not None else 0.0"
   ]
  },
  {
   "cell_type": "code",
   "execution_count": null,
   "id": "313b0ee0",
   "metadata": {},
   "outputs": [],
   "source": [
    "Tester.test(gpt_5_pricer ,test)"
   ]
  },
  {
   "cell_type": "code",
   "execution_count": 58,
   "id": "9dcc5c0b",
   "metadata": {},
   "outputs": [],
   "source": [
    "def claude_sonnet_4_5_pricer(datapoint):\n",
    "    content = prefix + datapoint['test_prompt']\n",
    "    response = claude_sonnet_4_5.invoke(content).content\n",
    "    price = extract_price(response)\n",
    "    return price if price is not None else 0.0"
   ]
  },
  {
   "cell_type": "code",
   "execution_count": null,
   "id": "70d2a9a1",
   "metadata": {},
   "outputs": [],
   "source": [
    "Tester.test(claude_sonnet_4_5_pricer,test)"
   ]
  },
  {
   "cell_type": "code",
   "execution_count": 60,
   "id": "224aebfe",
   "metadata": {},
   "outputs": [],
   "source": [
    "def claude_opus_4_pricer(datapoint):\n",
    "    content = prefix + datapoint['test_prompt']\n",
    "    response = claude_opus_4.invoke(content).content\n",
    "    price = extract_price(response)\n",
    "    return price if price is not None else 0.0"
   ]
  },
  {
   "cell_type": "code",
   "execution_count": null,
   "id": "b132326a",
   "metadata": {},
   "outputs": [],
   "source": [
    "Tester.test(claude_opus_4_pricer , test)"
   ]
  },
  {
   "cell_type": "code",
   "execution_count": 52,
   "id": "cd6a1624",
   "metadata": {},
   "outputs": [],
   "source": [
    "def gemini_2_5_flash_pricer(datapoint):\n",
    "    content = prefix + datapoint['test_prompt']\n",
    "    response = gemini_2_5_flash.invoke(content).content\n",
    "    price = extract_price(response)\n",
    "    return price if price is not None else 0.0"
   ]
  },
  {
   "cell_type": "code",
   "execution_count": null,
   "id": "17271a84",
   "metadata": {},
   "outputs": [],
   "source": [
    "Tester.test(gemini_2_5_flash_pricer,test)"
   ]
  },
  {
   "cell_type": "code",
   "execution_count": 66,
   "id": "0b253dbe",
   "metadata": {},
   "outputs": [],
   "source": [
    "def gemini_2_5_pro_pricer(datapoint):\n",
    "    content = prefix + datapoint['test_prompt']\n",
    "    response = gemini_2_5_pro.invoke(content).content\n",
    "    price = extract_price(response)\n",
    "    return price if price is not None else 0.0"
   ]
  },
  {
   "cell_type": "code",
   "execution_count": null,
   "id": "0a97f540",
   "metadata": {},
   "outputs": [],
   "source": [
    "Tester.test(gemini_2_5_pro_pricer,test)"
   ]
  },
  {
   "cell_type": "code",
   "execution_count": null,
   "id": "e07c931c",
   "metadata": {},
   "outputs": [],
   "source": []
  }
 ],
 "metadata": {
  "kernelspec": {
   "display_name": "product",
   "language": "python",
   "name": "python3"
  },
  "language_info": {
   "codemirror_mode": {
    "name": "ipython",
    "version": 3
   },
   "file_extension": ".py",
   "mimetype": "text/x-python",
   "name": "python",
   "nbconvert_exporter": "python",
   "pygments_lexer": "ipython3",
   "version": "3.12.11"
  }
 },
 "nbformat": 4,
 "nbformat_minor": 5
}
