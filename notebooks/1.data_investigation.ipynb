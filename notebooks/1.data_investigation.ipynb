{
 "cells": [
  {
   "cell_type": "code",
   "execution_count": null,
   "id": "d8698e77",
   "metadata": {},
   "outputs": [],
   "source": [
    "#imports\n",
    "import os \n",
    "from dotenv import load_dotenv\n",
    "from huggingface_hub import login\n",
    "from datasets import load_dataset , Dataset , DatasetDict\n",
    "import pandas as pd"
   ]
  },
  {
   "cell_type": "code",
   "execution_count": null,
   "id": "832489ed",
   "metadata": {},
   "outputs": [],
   "source": [
    "#environment\n",
    "load_dotenv(override=True)\n",
    "\n",
    "#hugging face login\n",
    "hf_token = os.getenv(\"HF_TOKEN\")\n",
    "login(hf_token , add_to_git_credential=True)"
   ]
  },
  {
   "cell_type": "code",
   "execution_count": null,
   "id": "f657f787",
   "metadata": {},
   "outputs": [],
   "source": [
    "#loading the small dataset for structure checking and curation\n",
    "\n",
    "dataset=load_dataset(\"McAuley-Lab/Amazon-Reviews-2023\",f\"raw_meta_Automotive\",split='full')\n",
    "\n",
    "print(f\"Number of Application ;{len(dataset):,}\")"
   ]
  },
  {
   "cell_type": "code",
   "execution_count": null,
   "id": "86d009d7",
   "metadata": {},
   "outputs": [],
   "source": [
    "#TODO:Looking at the dataset to see what has to be done\n",
    "df = pd.DataFrame([dataset[10]])\n",
    "df"
   ]
  },
  {
   "cell_type": "code",
   "execution_count": null,
   "id": "67cbc765",
   "metadata": {},
   "outputs": [],
   "source": [
    "keys = df.columns.tolist()\n",
    "print(keys)"
   ]
  },
  {
   "cell_type": "code",
   "execution_count": null,
   "id": "da5375af",
   "metadata": {},
   "outputs": [],
   "source": [
    "print(dataset[99][\"title\"]) #does the naming of the product\n",
    "print(dataset[99][\"features\"])  #will give as the name says features\n",
    "print(dataset[99][\"description\"]) #this is the meat of the dataset\n",
    "print(dataset[99][\"price\"]) #final result \n",
    "print(dataset[99][\"details\"]) #most importantly gives manufacturer and brand , other things are good to have but not necessary"
   ]
  },
  {
   "cell_type": "code",
   "execution_count": null,
   "id": "5d0ad43d",
   "metadata": {},
   "outputs": [],
   "source": [
    "#checking which of them has a price \n",
    "#using try except block avoids the None value error \n",
    "prices = 0 \n",
    "for data in dataset:\n",
    "    try:\n",
    "        price = float(data[\"price\"])\n",
    "        if price > 0 :\n",
    "            prices += 1 \n",
    "    except ValueError as e:\n",
    "        pass\n",
    "\n",
    "print(f\"There are {prices:,} with a valid price , which is {prices/len(dataset)*100:,.1f}\")"
   ]
  },
  {
   "cell_type": "code",
   "execution_count": null,
   "id": "4bcac184",
   "metadata": {},
   "outputs": [],
   "source": [
    "#content we want to include from the dataset into our prompt\n",
    "# title , description , features , details and atlast price\n",
    "#to analyse the token we need the length of the prompt \n",
    "\n",
    "prices =[] \n",
    "lengths =[]\n",
    "for data in dataset:\n",
    "    try :\n",
    "        price = float(data[\"price\"])\n",
    "        if price > 0 :\n",
    "            #adding to price list\n",
    "            prices.append(price)\n",
    "            #converting to string to concetinate \n",
    "            content = data[\"title\"] + str(data[\"description\"]) + str(data[\"features\"]) + data[\"details\"] \n",
    "            lengths.append(len(content))\n",
    "    except ValueError as e:\n",
    "        pass"
   ]
  },
  {
   "cell_type": "markdown",
   "id": "719dea29",
   "metadata": {},
   "source": [
    "## Visualizing using Matplotlib"
   ]
  },
  {
   "cell_type": "code",
   "execution_count": null,
   "id": "4a1c0776",
   "metadata": {},
   "outputs": [],
   "source": [
    "import matplotlib.pyplot as plt\n",
    "%matplotlib inline"
   ]
  },
  {
   "cell_type": "code",
   "execution_count": null,
   "id": "7b01ff39",
   "metadata": {},
   "outputs": [],
   "source": [
    "#data plot of lengths\n",
    "plt.hist(lengths,rwidth = 0.8 ,color= 'lightpink' ,bins=range(0,5000,200))\n",
    "plt.title(f\"Lengths: Avg = {sum(lengths)/len(lengths):,.0f} and highest = {max(lengths)} \")"
   ]
  },
  {
   "cell_type": "code",
   "execution_count": null,
   "id": "59877242",
   "metadata": {},
   "outputs": [],
   "source": [
    "#data plot of prices->Pink because I love Pink\n",
    "plt.figure(figsize=(15,6))\n",
    "plt.hist(prices,rwidth = 0.7 ,color= 'lightpink' ,bins=range(0,800,10))\n",
    "plt.title(f\"prices: Avg {sum(prices)/len(prices):,.0f} and highest {max(prices)} \")"
   ]
  },
  {
   "cell_type": "code",
   "execution_count": null,
   "id": "4041907a",
   "metadata": {},
   "outputs": [],
   "source": [
    "#looking at the highest product (for Curosity)\n",
    "for data in dataset :\n",
    "    try :\n",
    "        price = float(data[\"price\"]) \n",
    "        if price > 15788 :\n",
    "            print(data['title']) \n",
    "            exit\n",
    "    except ValueError as e:\n",
    "        pass "
   ]
  }
 ],
 "metadata": {
  "kernelspec": {
   "display_name": "Python 3",
   "language": "python",
   "name": "python3"
  },
  "language_info": {
   "codemirror_mode": {
    "name": "ipython",
    "version": 3
   },
   "file_extension": ".py",
   "mimetype": "text/x-python",
   "name": "python",
   "nbconvert_exporter": "python",
   "pygments_lexer": "ipython3",
   "version": "3.12.1"
  }
 },
 "nbformat": 4,
 "nbformat_minor": 5
}
