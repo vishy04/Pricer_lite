{
 "cells": [
  {
   "cell_type": "code",
   "execution_count": 9,
   "id": "d8698e77",
   "metadata": {},
   "outputs": [],
   "source": [
    "#imports\n",
    "import os \n",
    "from dotenv import load_dotenv\n",
    "from huggingface_hub import login\n",
    "from datasets import load_dataset , Dataset , DatasetDict\n",
    "import pandas as pd\n"
   ]
  },
  {
   "cell_type": "code",
   "execution_count": 4,
   "id": "832489ed",
   "metadata": {},
   "outputs": [
    {
     "data": {
      "text/plain": [
       "True"
      ]
     },
     "execution_count": 4,
     "metadata": {},
     "output_type": "execute_result"
    }
   ],
   "source": [
    "#environment\n",
    "load_dotenv(override=True)"
   ]
  },
  {
   "cell_type": "code",
   "execution_count": 5,
   "id": "16e1f2fd",
   "metadata": {},
   "outputs": [
    {
     "name": "stderr",
     "output_type": "stream",
     "text": [
      "Note: Environment variable`HF_TOKEN` is set and is the current active token independently from the token you've just configured.\n"
     ]
    }
   ],
   "source": [
    "#hugging face login\n",
    "hf_token = os.getenv(\"HF_TOKEN\")\n",
    "login(hf_token , add_to_git_credential=True)"
   ]
  },
  {
   "cell_type": "code",
   "execution_count": 6,
   "id": "f657f787",
   "metadata": {},
   "outputs": [
    {
     "name": "stderr",
     "output_type": "stream",
     "text": [
      "`trust_remote_code` is not supported anymore.\n",
      "Please check that the Hugging Face dataset 'McAuley-Lab/Amazon-Reviews-2023' isn't based on a loading script and remove `trust_remote_code`.\n",
      "If the dataset is based on a loading script, please ask the dataset author to remove it and convert it to a standard format like Parquet.\n",
      "Using the latest cached version of the dataset since McAuley-Lab/Amazon-Reviews-2023 couldn't be found on the Hugging Face Hub\n",
      "Found the latest cached dataset configuration 'raw_meta_Automotive' at /Users/vishesh/.cache/huggingface/datasets/McAuley-Lab___amazon-reviews-2023/raw_meta_Automotive/0.0.0/16b76e0823d73bb8cff1e9c5e3e37dbc46ae3daee380417ae141f5e67d3ea8e8 (last modified on Tue Jul  1 09:20:21 2025).\n"
     ]
    },
    {
     "name": "stdout",
     "output_type": "stream",
     "text": [
      "Number of Application ;2,003,129\n"
     ]
    }
   ],
   "source": [
    "#loading the small dataset for structure checking and curation\n",
    "\n",
    "dataset=load_dataset(\"McAuley-Lab/Amazon-Reviews-2023\",f\"raw_meta_Automotive\",split='full',\n",
    "                     trust_remote_code=True)\n",
    "\n",
    "print(f\"Number of Application ;{len(dataset):,}\")"
   ]
  },
  {
   "cell_type": "code",
   "execution_count": 16,
   "id": "86d009d7",
   "metadata": {},
   "outputs": [
    {
     "data": {
      "text/html": [
       "<div>\n",
       "<style scoped>\n",
       "    .dataframe tbody tr th:only-of-type {\n",
       "        vertical-align: middle;\n",
       "    }\n",
       "\n",
       "    .dataframe tbody tr th {\n",
       "        vertical-align: top;\n",
       "    }\n",
       "\n",
       "    .dataframe thead th {\n",
       "        text-align: right;\n",
       "    }\n",
       "</style>\n",
       "<table border=\"1\" class=\"dataframe\">\n",
       "  <thead>\n",
       "    <tr style=\"text-align: right;\">\n",
       "      <th></th>\n",
       "      <th>main_category</th>\n",
       "      <th>title</th>\n",
       "      <th>average_rating</th>\n",
       "      <th>rating_number</th>\n",
       "      <th>features</th>\n",
       "      <th>description</th>\n",
       "      <th>price</th>\n",
       "      <th>images</th>\n",
       "      <th>videos</th>\n",
       "      <th>store</th>\n",
       "      <th>categories</th>\n",
       "      <th>details</th>\n",
       "      <th>parent_asin</th>\n",
       "      <th>bought_together</th>\n",
       "      <th>subtitle</th>\n",
       "      <th>author</th>\n",
       "    </tr>\n",
       "  </thead>\n",
       "  <tbody>\n",
       "    <tr>\n",
       "      <th>0</th>\n",
       "      <td>Automotive</td>\n",
       "      <td>Sherman Replacement Part Compatible with Cadil...</td>\n",
       "      <td>3.8</td>\n",
       "      <td>22</td>\n",
       "      <td>[Package Dimensions: 52.07 cms (L) x 66.04 cms...</td>\n",
       "      <td>[Product description, RH INR FRT WHL SHIELD / ...</td>\n",
       "      <td>136.47</td>\n",
       "      <td>{'hi_res': ['https://m.media-amazon.com/images...</td>\n",
       "      <td>{'title': [], 'url': [], 'user_id': []}</td>\n",
       "      <td>Sherman</td>\n",
       "      <td>[Automotive, Replacement Parts, Body &amp; Trim, B...</td>\n",
       "      <td>{\"Brand\": \"Sherman\", \"Color\": \"Black\", \"Exteri...</td>\n",
       "      <td>B004GDKLHO</td>\n",
       "      <td>None</td>\n",
       "      <td>None</td>\n",
       "      <td>None</td>\n",
       "    </tr>\n",
       "  </tbody>\n",
       "</table>\n",
       "</div>"
      ],
      "text/plain": [
       "  main_category  ... author\n",
       "0    Automotive  ...   None\n",
       "\n",
       "[1 rows x 16 columns]"
      ]
     },
     "execution_count": 16,
     "metadata": {},
     "output_type": "execute_result"
    }
   ],
   "source": [
    "#TODO:Looking at the dataset to see what has to be done\n",
    "df = pd.DataFrame([dataset[10]])\n",
    "df"
   ]
  },
  {
   "cell_type": "code",
   "execution_count": 27,
   "id": "67cbc765",
   "metadata": {},
   "outputs": [
    {
     "name": "stdout",
     "output_type": "stream",
     "text": [
      "['main_category', 'title', 'average_rating', 'rating_number', 'features', 'description', 'price', 'images', 'videos', 'store', 'categories', 'details', 'parent_asin', 'bought_together', 'subtitle', 'author']\n"
     ]
    }
   ],
   "source": [
    "keys = df.columns.tolist()\n",
    "print(keys)"
   ]
  },
  {
   "cell_type": "code",
   "execution_count": null,
   "id": "da5375af",
   "metadata": {},
   "outputs": [
    {
     "name": "stdout",
     "output_type": "stream",
     "text": [
      "Rareelectrical NEW REGULATOR COMPATIBLE WITH CASE FARM TRACTOR 840 841 930 931 940 941 701 710 800B 810 811-B\n",
      "['Compatible with CASE, CAT, DELCO and many more... Please verify your OEM part number from your original unit to help ensure fitment.', 'Replaces: DELCO: 1118792 1118991 D649, ITEM DESCRIPTION: VOLTAGE REGULATOR, UNIT TYPE: DELCO, VOLTAGE: 12, TERMINAL COUNT: 3, ADJUSTABLE: NON-ADJUSTABLE, CIRCUIT TYPE: A-CIRCUIT, POLARITY: NEGATIVE OR POSITIVE, TERMINAL ID: BATTERY-GENERATOR-FIELD, AMPERAGE: 15-18, SPECIFICATIONS: BRUSH HOLDER NOT INCLUDED, SPECIFICATIONS: RECTIFIER NOT INCLUDED, SPECIFICATIONS: ...', 'Replaces: INCLUDED, SPECIFICATIONS: TOLERANCE RING NOT INCLUDED, WEIGHT: 3 LBS ...', 'Computer tested for consistent Quality and unsurpassed reliability', 'Voltage Regulator - Voltage: 12V Adjustable: Non-Adjustable Circuit Type: A-Circuit Terminal Count: 3 Source: Aftermarket']\n",
      "['RAREELECTRICAL BRAND COMPATIBLE WITH CASE, CAT, DELCODELCO: 1118792 1118991 D649ITEM DESCRIPTION: VOLTAGE REGULATORUNIT TYPE: DELCOVOLTAGE: 12TERMINAL COUNT: 3ADJUSTABLE: NON-ADJUSTABLECIRCUIT TYPE: A-CIRCUITPOLARITY: NEGATIVE OR POSITIVETERMINAL ID: BATTERY-GENERATOR-FIELDAMPERAGE: 15-18SPECIFICATIONS: BRUSH HOLDER NOT INCLUDEDSPECIFICATIONS: RECTIFIER NOT INCLUDEDSPECIFICATIONS: TOLERANCE RING NOT INCLUDEDWEIGHT: 3 LBSAPPLICATIONSPLEASE VERIFY YOUR OEM PART NUMBER FROM YOUR ORIGINAL UNIT TO HELP ENSURE FITMENT.DELCO 1100407, 1100444, 1100445, 1100450, 1100390, 1100398CASE COMBINES 1000 A284G GAS 1959-1966CASE COMBINES 1000 A301D-F DIESEL 1959-1966CASE COMBINES 1010 284 GAS & LPG 1966-1971CASE COMBINES 1060 DIESEL ENGINES 1961-1971CASE POWER UNITS A301D / A301 U A301D-U DIESEL 1960-1964CASE POWER UNITS A401D / A401U A401D-U DIESEL 1960-1964CASE TRACTORS – FARM 1030 6-451 DIESEL 1966-1969CASE TRACTORS – FARM 1031 6-451 DIESEL 1966-1969CASE TRACTORS – FARM 1032 6-451 DIESEL 1966-1969CASE TRACTORS – FARM 701-B 4-267 DIESEL 1958-1960CASE TRACTORS – FARM 710 4-267 DIESEL 1958-1960CASE TRACTORS – FARM 730 4-267 DIESEL 1960-1969CASE TRACTORS – FARM 731 4-267 DIESEL 1960-1969CASE TRACTORS – FARM 741 4-251 GAS ENGINE 1965-1969CASE TRACTORS – FARM 800B 4-267 DIESEL 1958-1960CASE TRACTORS – FARM 810 4-251 GAS ENGINE 1958-1960CASE TRACTORS – FARM 811-B 4-251 GAS ENGINE 1958-1960CASE TRACTORS – FARM 830 4-301 DIESEL 1960-1969CASE TRACTORS – FARM 831 4-301 DIESEL 1960-1969CASE TRACTORS – FARM 840 4-284 GAS ENGINE 1960-1969CASE TRACTORS – FARM 841 4-284 GAS ENGINE 1960-1969CASE TRACTORS – FARM 900-B 6-377 CASE DIESEL 1957-1960CASE TRACTORS – FARM 910-B 6-377 CASE GASAnd Many more...']\n",
      "37.01\n",
      "{\"Manufacturer\": \"RAREELECTRICAL\", \"Brand\": \"Rareelectrical\", \"Item Weight\": \"2 pounds\", \"Product Dimensions\": \"6 x 4 x 4 inches\", \"Manufacturer Part Number\": \"81-1910D4\", \"OEM Part Number\": \"1118792 1118991 D649\", \"Voltage\": \"12 Volts\", \"Best Sellers Rank\": {\"Automotive\": 2670775, \"Automotive Replacement Alternator Voltage Regulators\": 883}, \"Date First Available\": \"October 23, 2012\"}\n"
     ]
    }
   ],
   "source": [
    "print(dataset[99][\"title\"]) #does the naming of the product\n",
    "print(dataset[99][\"features\"])  #will give as the name says features\n",
    "print(dataset[99][\"description\"]) #this is the meat of the dataset\n",
    "print(dataset[99][\"price\"]) #final result \n",
    "print(dataset[99][\"details\"]) #most importantly gives manufacturer and brand , other things are good to have but not necessary"
   ]
  },
  {
   "cell_type": "code",
   "execution_count": 35,
   "id": "5d0ad43d",
   "metadata": {},
   "outputs": [
    {
     "name": "stdout",
     "output_type": "stream",
     "text": [
      "There are 1,131,965 with a valid price , which is 56.5\n"
     ]
    }
   ],
   "source": [
    "#checking which of them has a price \n",
    "#using try except block avoids the None value error \n",
    "prices = 0 \n",
    "for data in dataset:\n",
    "    try:\n",
    "        price = float(data[\"price\"])\n",
    "        if price > 0 :\n",
    "            prices += 1 \n",
    "    except ValueError as e:\n",
    "        pass\n",
    "\n",
    "print(f\"There are {prices:,} with a valid price , which is {prices/len(dataset)*100:,.1f}\")"
   ]
  },
  {
   "cell_type": "code",
   "execution_count": 38,
   "id": "4bcac184",
   "metadata": {},
   "outputs": [],
   "source": [
    "#content we want to include from the dataset into our prompt\n",
    "# title , description , features , details and atlast price\n",
    "#to analyse the token we need the length of the prompt \n",
    "\n",
    "prices =[] \n",
    "lengths =[]\n",
    "for data in dataset:\n",
    "    try :\n",
    "        price = float(data[\"price\"])\n",
    "        if price > 0 :\n",
    "            #adding to price list\n",
    "            prices.append(price)\n",
    "            #converting to string to concetinate \n",
    "            content = data[\"title\"] + str(data[\"description\"]) + str(data[\"features\"]) + data[\"details\"] \n",
    "            lengths.append(len(content))\n",
    "    except ValueError as e:\n",
    "        pass"
   ]
  },
  {
   "cell_type": "code",
   "execution_count": 41,
   "id": "4a1c0776",
   "metadata": {},
   "outputs": [],
   "source": [
    "import matplotlib.pyplot as plt\n",
    "%matplotlib inline"
   ]
  },
  {
   "cell_type": "code",
   "execution_count": null,
   "id": "7b01ff39",
   "metadata": {},
   "outputs": [],
   "source": [
    "#data plot of lengths\n",
    "plt.hist(lengths,rwidth = 0.8 ,color= 'lightpink' ,bins=range(0,5000,200))\n",
    "plt.title(f\"Lengths: Avg = {sum(lengths)/len(lengths):,.0f} and highest = {max(lengths)} \")"
   ]
  },
  {
   "cell_type": "code",
   "execution_count": 78,
   "id": "59877242",
   "metadata": {},
   "outputs": [
    {
     "data": {
      "text/plain": [
       "Text(0.5, 1.0, 'prices: Avg 82 and highest 15799.0 ')"
      ]
     },
     "execution_count": 78,
     "metadata": {},
     "output_type": "execute_result"
    },
    {
     "data": {
      "image/png": "[encoded data removed]",
      "text/plain": [
       "<Figure size 1500x600 with 1 Axes>"
      ]
     },
     "metadata": {},
     "output_type": "display_data"
    }
   ],
   "source": [
    "#data plot of prices\n",
    "plt.figure(figsize=(15,6))\n",
    "plt.hist(prices,rwidth = 0.7 ,color= 'lightpink' ,bins=range(0,800,10))\n",
    "plt.title(f\"prices: Avg {sum(prices)/len(prices):,.0f} and highest {max(prices)} \")"
   ]
  },
  {
   "cell_type": "code",
   "execution_count": 79,
   "id": "4041907a",
   "metadata": {},
   "outputs": [
    {
     "name": "stdout",
     "output_type": "stream",
     "text": [
      "{'main_category': None, 'title': 'US Stock 2000 W Laser Rust Removal Machine 220V MAX Laser Cleaning Machine Laser Cleaner Laser Rust Remover for Metal, Rust,Oil,Coating', 'average_rating': 5.0, 'rating_number': 3, 'features': ['[Parameters]: Laser Brand: MAX; Laser Source Power(W): 2000; Laser Wavelength: 1080±10nm; Scanning Width: 160±10mm; Laser Type: Continuous/Modulation; Maximum Modulation Frequency: 20KHz; Output Power(KW): 10; Cleaning Efficiency: 15-45㎡/h; Cable Length: 32ft(Customizable 49ft/65ft); Voltage: 220V 1-Phase; Cooling Method: Water Cooling (Medium: Deionized Water, Distilled Water or Purified Water) Package Dimensions: 1120*565*1050mm; Water Tank Capacity: 16L (14-15L of Water to be Added)', '[TIME AND COST SAVING]: High quality handheld laser cleaning machine can provide non-contact cleaning and can be used in any Space and location. Laser Cleaning Machine is environment friendly to be used without damaging the base material.', '[CONVENIENT TO USE]: Double-click the switch to start cleaning, avoiding accidental touch and operation is safer. The integrated cable length of this handheld laser cleaning machine is 10-20 meters so that you do not need to worry distance limitation when use this laser rust removal machine. Small Volume(0.28m³). Easy to Put in a Car for Outdoor Cleaning.', '[APPLICATION]: This laser rust removal widely used in aviation and marine, electromechanical, rubber mold, equipment manufacturing, auto parts, food processing. Common Applications: classic car rust paint repair, steel construction rust removal, building exterior cleaning, graffiti removal, metal parts cleaning, paint stripping and removal, rust and corrosion removal, etc. Please confirm with us before placing an order. It would be better to send samples for testing.', '[WARRANTY]: 1 year warranty for the whole machine. 2 years warranty for the laser source. Equipped with English operation manual. If you have any questions, please feel free to PM us by Amazon message'], 'description': [], 'price': '15799.0', 'images': {'hi_res': ['https://m.media-amazon.com/images/I/71h6h8IihnL._SL1500_.jpg', 'https://m.media-amazon.com/images/I/717I3AKtyfL._SL1500_.jpg', 'https://m.media-amazon.com/images/I/71wo0yfL5gL._SL1500_.jpg', 'https://m.media-amazon.com/images/I/81TW022oUgL._SL1500_.jpg', 'https://m.media-amazon.com/images/I/71E+toi2axL._SL1500_.jpg', 'https://m.media-amazon.com/images/I/71bYsmagx6L._SL1500_.jpg', 'https://m.media-amazon.com/images/I/71ONipO9GPL._SL1500_.jpg', 'https://m.media-amazon.com/images/I/71KdIT+UNlL._SL1500_.jpg', 'https://m.media-amazon.com/images/I/71dZAEN0zbL._SL1500_.jpg'], 'large': ['https://m.media-amazon.com/images/I/51gFzn80ohL.jpg', 'https://m.media-amazon.com/images/I/51hJybQro3L.jpg', 'https://m.media-amazon.com/images/I/4198UIhz6QL.jpg', 'https://m.media-amazon.com/images/I/51J91LCD4xL.jpg', 'https://m.media-amazon.com/images/I/51ptJUWVB3L.jpg', 'https://m.media-amazon.com/images/I/41y3G9YHlqL.jpg', 'https://m.media-amazon.com/images/I/51h-n4KCJNL.jpg', 'https://m.media-amazon.com/images/I/51mWB-re9pL.jpg', 'https://m.media-amazon.com/images/I/41RbAt7EcXL.jpg'], 'thumb': ['https://m.media-amazon.com/images/I/51gFzn80ohL._SX38_SY50_CR,0,0,38,50_.jpg', 'https://m.media-amazon.com/images/I/51hJybQro3L._SX38_SY50_CR,0,0,38,50_.jpg', 'https://m.media-amazon.com/images/I/4198UIhz6QL._SX38_SY50_CR,0,0,38,50_.jpg', 'https://m.media-amazon.com/images/I/51J91LCD4xL._SX38_SY50_CR,0,0,38,50_.jpg', 'https://m.media-amazon.com/images/I/51ptJUWVB3L._SX38_SY50_CR,0,0,38,50_.jpg', 'https://m.media-amazon.com/images/I/41y3G9YHlqL._SX38_SY50_CR,0,0,38,50_.jpg', 'https://m.media-amazon.com/images/I/51h-n4KCJNL._SX38_SY50_CR,0,0,38,50_.jpg', 'https://m.media-amazon.com/images/I/51mWB-re9pL._SX38_SY50_CR,0,0,38,50_.jpg', 'https://m.media-amazon.com/images/I/41RbAt7EcXL._SX38_SY50_CR,0,0,38,50_.jpg'], 'variant': ['MAIN', 'PT01', 'PT02', 'PT03', 'PT04', 'PT05', 'PT06', 'PT07', 'PT08']}, 'videos': {'title': [], 'url': [], 'user_id': []}, 'store': 'WTTTOOLS', 'categories': ['Automotive', 'Car Care', 'Finishing', 'Corrosion & Rust Inhibitors'], 'details': '{\"Date First Available\": \"April 26, 2023\", \"Manufacturer\": \"Luoyang Xincheng\", \"Country of Origin\": \"China\"}', 'parent_asin': 'B0C3KW3TJM', 'bought_together': None, 'subtitle': None, 'author': None}\n"
     ]
    }
   ],
   "source": [
    "#looking at the highest product\n",
    "for data in dataset :\n",
    "    try :\n",
    "        price = float(data[\"price\"]) \n",
    "        if price > 15788 :\n",
    "            print(data['title']) \n",
    "            exit\n",
    "    except ValueError as e:\n",
    "        pass "
   ]
  },
  {
   "cell_type": "code",
   "execution_count": null,
   "id": "62d48ae9",
   "metadata": {},
   "outputs": [],
   "source": []
  }
 ],
 "metadata": {
  "kernelspec": {
   "display_name": "Python 3",
   "language": "python",
   "name": "python3"
  },
  "language_info": {
   "codemirror_mode": {
    "name": "ipython",
    "version": 3
   },
   "file_extension": ".py",
   "mimetype": "text/x-python",
   "name": "python",
   "nbconvert_exporter": "python",
   "pygments_lexer": "ipython3",
   "version": "3.12.1"
  }
 },
 "nbformat": 4,
 "nbformat_minor": 5
}
